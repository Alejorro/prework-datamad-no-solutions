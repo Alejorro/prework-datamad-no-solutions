{
 "cells": [
  {
   "cell_type": "markdown",
   "metadata": {},
   "source": [
    "# Robin Hood\n",
    "## Intro\n",
    "We are in a competition to win the archery contest in Sherwood. With our bow and arrows we shoot on a target and try to hit as close as possible to the center.\n",
    "\n",
    "The center of the target is represented by the values (0, 0) on the coordinate axes.\n",
    "\n",
    "![](images/arrows.jpg)\n",
    "\n",
    "## Goals:\n",
    "* data structures: lists, sets, tuples\n",
    "* logical operators: if-elif-else\n",
    "* loop: while/for\n",
    "* minimum (optional sorting)\n",
    "\n",
    "## Description:\n",
    "In the 2-dimensional space, a point can be defined by a pair of values that correspond to the horizontal coordinate (x) and the vertical coordinate (y). The space can be divided into 4 zones (quadrants): Q1, Q2, Q3, Q4. Whose single point of union is the point (0, 0).\n",
    "\n",
    "If a point is in Q1 both its x coordinate and the y are positive. I leave a link to wikipedia to familiarize yourself with these quadrants.\n",
    "\n",
    "https://en.wikipedia.org/wiki/Cartesian_coordinate_system\n",
    "\n",
    "https://en.wikipedia.org/wiki/Euclidean_distance\n",
    "\n",
    "## Shots\n",
    "```\n",
    "points = [(4, 5), (-0, 2), (4, 7), (1, -3), (3, -2), (4, 5),\n",
    "          (3, 2), (5, 7), (-5, 7), (2, 2), (-4, 5), (0, -2),\n",
    "          (-4, 7), (-1, 3), (-3, 2), (-4, -5), (-3, 2),\n",
    "          (5, 7), (5, 7), (2, 2), (9, 9), (-8, -9)]\n",
    "```\n",
    "\n",
    "## Tasks\n",
    "1. Robin Hood is famous for hitting an arrow with another arrow. Did you get it?\n",
    "2. Calculate how many arrows have fallen in each quadrant.\n",
    "3. Find the point closest to the center. Calculate its distance to the center. \n",
    "4. If the target has a radius of 9, calculate the number of arrows that must be picked up in the forest."
   ]
  },
  {
   "cell_type": "code",
   "execution_count": 1,
   "metadata": {},
   "outputs": [],
   "source": [
    "# Variables\n",
    "\n",
    "points = [(4, 5), (-0, 2), (4, 7), (1, -3), (3, -2), (4, 5),\n",
    "          (3, 2), (5, 7), (-5, 7), (2, 2), (-4, 5), (0, -2),\n",
    "          (-4, 7), (-1, 3), (-3, 2), (-4, -5), (-3, 2),\n",
    "          (5, 7), (5, 7), (2, 2), (9, 9), (-8, -9)]"
   ]
  },
  {
   "cell_type": "code",
   "execution_count": 2,
   "metadata": {},
   "outputs": [
    {
     "name": "stdout",
     "output_type": "stream",
     "text": "True\n"
    }
   ],
   "source": [
    "# 1. Robin Hood is famous for hitting an arrow with another arrow. Did you get it?\n",
    "\n",
    "not_duplicated = set()\n",
    "\n",
    "duplicated = []\n",
    "\n",
    "\n",
    "for shoot in points:\n",
    "\n",
    "    if shoot not in not_duplicated:\n",
    "\n",
    "        not_duplicated.add(shoot)\n",
    "\n",
    "    else:\n",
    "\n",
    "        duplicated.append(shoot)\n",
    "\n",
    "if duplicated:\n",
    "    print(True)\n",
    "\n",
    "\n",
    "\n",
    "#Another way:\n",
    "\n",
    "# sin_duplicados = set()\n",
    "\n",
    "# duplicados = [sin_duplicados.add(shoot) if shoot not in sin_duplicados else shoot for shoot in points]\n",
    "\n",
    "# print(\"Hay un total de %d flechas lanzadas por Robin Hood en las posiciones %s\" %(len(set(duplicados)), set(duplicados)))\n"
   ]
  },
  {
   "cell_type": "markdown",
   "metadata": {},
   "source": [
    "**Expected output**:\n",
    "```\n",
    "True\n",
    "```"
   ]
  },
  {
   "cell_type": "code",
   "execution_count": 3,
   "metadata": {},
   "outputs": [
    {
     "name": "stdout",
     "output_type": "stream",
     "text": "(10, 6, 2, 2)\n"
    }
   ],
   "source": [
    "# 2. Calculate how many arrows have fallen in each quadrant.\n",
    "\n",
    "primer_cuadrante = len(list(filter(lambda a: a[0]>0 and a[1]>0,points)))\n",
    "\n",
    "segundo_cuadrante = len(list(filter(lambda a: a[0]<0 and a[1]>0,points)))\n",
    "\n",
    "tercer_cuadrante = len(list(filter(lambda a: a[0]<0 and a[1]<0,points)))\n",
    "\n",
    "cuarto_cuadrante = len(list(filter(lambda a: a[0]>0 and a[1]<0,points)))\n",
    "\n",
    "ejes = len(list(filter(lambda a: a[0]==0 or a[1]==0,points)))\n",
    "\n",
    "print((primer_cuadrante, segundo_cuadrante, tercer_cuadrante, cuarto_cuadrante))\n",
    "\n",
    "\n"
   ]
  },
  {
   "cell_type": "markdown",
   "metadata": {},
   "source": [
    "**Expected output**:\n",
    "```\n",
    "(10, 6, 2, 2)\n",
    "```"
   ]
  },
  {
   "cell_type": "code",
   "execution_count": 4,
   "metadata": {},
   "outputs": [
    {
     "name": "stdout",
     "output_type": "stream",
     "text": "(0, 2)\n2.0\n"
    }
   ],
   "source": [
    "# 3. Find the point closest to the center. Calculate its distance to the center\n",
    "# Defining a function that calculates the distance to the center can help.\n",
    "\n",
    "def center(points):\n",
    "\n",
    "    distance = [abs(shoot[0]) + abs(shoot[1]) for shoot in points]\n",
    "\n",
    "    min_distance = [points[distance.index(min(distance))], min(distance)]\n",
    "\n",
    "    return min_distance\n",
    "\n",
    "result = center(points)\n",
    "\n",
    "print(result[0])\n",
    "\n",
    "print(\"%.1f\" %(result[1]))"
   ]
  },
  {
   "cell_type": "markdown",
   "metadata": {},
   "source": [
    "**Expected output**:\n",
    "```\n",
    "(0, 2)\n",
    "2.0\n",
    "```"
   ]
  },
  {
   "cell_type": "code",
   "execution_count": 5,
   "metadata": {},
   "outputs": [
    {
     "name": "stdout",
     "output_type": "stream",
     "text": "[(9, 9), (-8, -9)]\n2\n"
    }
   ],
   "source": [
    "# 4. If the target has a radius of 9, calculate the number of arrows that \n",
    "# must be picked up in the forest.\n",
    "\n",
    "shoots_out_range = list(filter(lambda x: abs(x[0])>=9 or abs(x[1])>=9,points))\n",
    "\n",
    "number_out_range = len(shoots_out_range)\n",
    "\n",
    "print(shoots_out_range)\n",
    "\n",
    "print(number_out_range)\n"
   ]
  },
  {
   "cell_type": "markdown",
   "metadata": {},
   "source": [
    "**Expected output**:\n",
    "```\n",
    "[(9, 9), (-8, -9)]\n",
    "2\n",
    "```"
   ]
  },
  {
   "cell_type": "code",
   "execution_count": 6,
   "metadata": {},
   "outputs": [],
   "source": [
    "#EXTRA:"
   ]
  },
  {
   "cell_type": "code",
   "execution_count": 7,
   "metadata": {},
   "outputs": [],
   "source": [
    "# Variables\n",
    "\n",
    "points = [(4, 5), (-0, 2), (4, 7), (1, -3), (3, -2), (4, 5),\n",
    "          (3, 2), (5, 7), (-5, 7), (2, 2), (-4, 5), (0, -2),\n",
    "          (-4, 7), (-1, 3), (-3, 2), (-4, -5), (-3, 2),\n",
    "          (5, 7), (5, 7), (2, 2), (9, 9), (-8, -9)]"
   ]
  },
  {
   "cell_type": "code",
   "execution_count": 8,
   "metadata": {},
   "outputs": [
    {
     "name": "stdout",
     "output_type": "stream",
     "text": "Hay un total de 4 flechas lanzadas por Robin Hood en las posiciones {(4, 5), (5, 7), (-3, 2), (2, 2)}\n"
    }
   ],
   "source": [
    "# 1. Robin Hood is famous for hitting an arrow with another arrow. Did you get it?\n",
    "\n",
    "sin_duplicados = set()\n",
    "\n",
    "duplicados = []\n",
    "\n",
    "for shoot in points:\n",
    "    if shoot not in sin_duplicados:\n",
    "        \n",
    "        sin_duplicados.add(shoot)\n",
    "\n",
    "    else:\n",
    "        duplicados.append(shoot)\n",
    "\n",
    "\n",
    "print(\"Hay un total de %d flechas lanzadas por Robin Hood en las posiciones %s\" %(len(set(duplicados)), set(duplicados)))\n"
   ]
  },
  {
   "cell_type": "code",
   "execution_count": 9,
   "metadata": {},
   "outputs": [
    {
     "name": "stdout",
     "output_type": "stream",
     "text": "{(4, 5), (5, 7), (-3, 2), (2, 2)}\n"
    }
   ],
   "source": [
    "#Método dos para extraer las mismas conclusiones anteriores:\n",
    "\n",
    "sin_duplicados_2 = set()\n",
    "\n",
    "duplicados_2 = set([sin_duplicados_2.add(shoot_2) if shoot_2 not in sin_duplicados_2 else shoot_2 for shoot_2 in points])\n",
    "\n",
    "duplicados_2.discard(None)\n",
    "\n",
    "print(duplicados_2)"
   ]
  },
  {
   "cell_type": "code",
   "execution_count": 10,
   "metadata": {},
   "outputs": [
    {
     "name": "stdout",
     "output_type": "stream",
     "text": "Han caído 10 flechas en el primer cuadrante, 6 en el segundo cuadrante, 2 en el tercer cuadrante, 2 en el cuarto cuadrante y 2 en los ejes. Es decir, un total de 22 flechas.\n"
    }
   ],
   "source": [
    "# 2. Calculate how many arrows have fallen in each quadrant.\n",
    "\n",
    "primer_cuadrante = len(list(filter(lambda a: a[0]>0 and a[1]>0,points)))\n",
    "\n",
    "segundo_cuadrante = len(list(filter(lambda a: a[0]<0 and a[1]>0,points)))\n",
    "\n",
    "tercer_cuadrante = len(list(filter(lambda a: a[0]<0 and a[1]<0,points)))\n",
    "\n",
    "cuarto_cuadrante = len(list(filter(lambda a: a[0]>0 and a[1]<0,points)))\n",
    "\n",
    "ejes = len(list(filter(lambda a: a[0]==0 or a[1]==0,points)))\n",
    "\n",
    "\n",
    "\n",
    "print(\"Han caído %d flechas en el primer cuadrante, %d en el segundo cuadrante, %d en el tercer cuadrante, %d en el cuarto cuadrante y %d en los ejes. Es decir, un total de %d flechas.\" %(primer_cuadrante, segundo_cuadrante, tercer_cuadrante, cuarto_cuadrante, ejes, primer_cuadrante+segundo_cuadrante+tercer_cuadrante+cuarto_cuadrante+ejes))"
   ]
  },
  {
   "cell_type": "code",
   "execution_count": 11,
   "metadata": {},
   "outputs": [
    {
     "name": "stdout",
     "output_type": "stream",
     "text": "Las flechas más cercanas fueron lanzadas en los turnos [1, 11] , situadas a una distancia de 2 cm del centro de la diana, y con valor [(0, 2), (0, -2)] .\n"
    }
   ],
   "source": [
    "# 3. Find the point closest to the center. Calculate its distance to the center\n",
    "# Defining a function that calculates the distance to the center can help.\n",
    "\n",
    "def center (where):\n",
    "\n",
    "    result = []\n",
    "\n",
    "    for turn, arrow in enumerate(where):\n",
    "        \n",
    "        calc = abs(arrow[0]) + abs(arrow[1])\n",
    "\n",
    "        result.append((turn, calc))\n",
    "\n",
    "    return result\n",
    "\n",
    "\n",
    "\n",
    "min_arrow = min([x[1] for x in center(points)])\n",
    "\n",
    "min_turn = [x[0] for x in center(points) if x[1] == min_arrow]\n",
    "\n",
    "min_value = [points[x] for x in min_turn]\n",
    "\n",
    "\n",
    "\n",
    "print(\"Las flechas más cercanas fueron lanzadas en los turnos %s , situadas a una distancia de %d cm del centro de la diana, y con valor %s .\" %(min_turn, min_arrow, min_value))"
   ]
  },
  {
   "cell_type": "code",
   "execution_count": 12,
   "metadata": {},
   "outputs": [
    {
     "name": "stdout",
     "output_type": "stream",
     "text": "Hasta 2 flechas han acabado fuera de la diana.\n"
    }
   ],
   "source": [
    "# 4. If the target has a radius of 9, calculate the number of arrows that \n",
    "# must be picked up in the forest.\n",
    "\n",
    "calc = len(list(filter(lambda x: abs(x[0]) >= 9 or abs(x[1]) >= 9, points)))\n",
    "\n",
    "print(\"Hasta %d flechas han acabado fuera de la diana.\" %(calc))"
   ]
  }
 ],
 "metadata": {
  "kernelspec": {
   "display_name": "Python 3",
   "language": "python",
   "name": "python3"
  },
  "language_info": {
   "codemirror_mode": {
    "name": "ipython",
    "version": 3
   },
   "file_extension": ".py",
   "mimetype": "text/x-python",
   "name": "python",
   "nbconvert_exporter": "python",
   "pygments_lexer": "ipython3",
   "version": "3.6.9"
  }
 },
 "nbformat": 4,
 "nbformat_minor": 2
}