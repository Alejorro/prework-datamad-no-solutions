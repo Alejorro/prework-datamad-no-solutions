{
 "cells": [
  {
   "cell_type": "markdown",
   "metadata": {},
   "source": [
    "# Rock Paper Scissors\n",
    "\n",
    "Let's play the famous game against our computer.\n",
    "\n",
    "https://en.wikipedia.org/wiki/Rock%E2%80%93paper%E2%80%93scissors\n",
    "\n",
    "The use of functions is recommended\n",
    "\n",
    "## Goals\n",
    "1. Use of loop\n",
    "2. Data capture by console\n",
    "3. Use if-elif-else\n",
    "4. Use of try-except\n",
    "5. Definition of functions. Modular programming\n",
    "6. Logical operators.\n",
    "7. Print\n",
    "8. Import modules"
   ]
  },
  {
   "cell_type": "code",
   "execution_count": 1,
   "metadata": {},
   "outputs": [],
   "source": [
    "# Import the choice function of the random module\n",
    "# https://stackoverflow.com/questions/306400/how-to-randomly-select-an-item-from-a-list\n",
    "\n",
    "import random"
   ]
  },
  {
   "cell_type": "code",
   "execution_count": 2,
   "metadata": {},
   "outputs": [],
   "source": [
    "# Assign to a list the 3 possible options: 'stone', 'paper' or 'scissors'.\n",
    "\n",
    "variables = [(\"scissors\", \"paper\", \"stone\"), (\"paper\", \"stone\", \"scissors\"), (\"stone\", \"scissors\", \"paper\")]"
   ]
  },
  {
   "cell_type": "code",
   "execution_count": 3,
   "metadata": {},
   "outputs": [],
   "source": [
    "# Assign a variable to the maximum number of games: 1, 3, 5, etc ...\n",
    "\n",
    "max_games = 3"
   ]
  },
  {
   "cell_type": "code",
   "execution_count": 4,
   "metadata": {},
   "outputs": [],
   "source": [
    "# Assign a variable to the number of games a player must win to win.\n",
    "# Preferably the value will be based on the number of maximum games\n",
    "\n",
    "win_games = 2"
   ]
  },
  {
   "cell_type": "code",
   "execution_count": 5,
   "metadata": {},
   "outputs": [],
   "source": [
    "# Define a function that randomly returns one of the 3 options.\n",
    "# This will correspond to the play of the machine. Totally random.\n",
    "\n",
    "def machine_choice(selection):\n",
    "    \n",
    "    play = random.choice(selection)\n",
    "\n",
    "    return play\n",
    "\n",
    "machine = machine_choice(variables)"
   ]
  },
  {
   "cell_type": "code",
   "execution_count": 6,
   "metadata": {},
   "outputs": [
    {
     "ename": "StdinNotImplementedError",
     "evalue": "raw_input was called, but this frontend does not support input requests.",
     "output_type": "error",
     "traceback": [
      "\u001b[0;31m---------------------------------------------------------------------------\u001b[0m",
      "\u001b[0;31mStdinNotImplementedError\u001b[0m                  Traceback (most recent call last)",
      "\u001b[0;32m<ipython-input-6-597c9ec7db27>\u001b[0m in \u001b[0;36m<module>\u001b[0;34m\u001b[0m\n\u001b[1;32m     18\u001b[0m \u001b[0;34m\u001b[0m\u001b[0m\n\u001b[1;32m     19\u001b[0m \u001b[0;34m\u001b[0m\u001b[0m\n\u001b[0;32m---> 20\u001b[0;31m \u001b[0mplayer\u001b[0m \u001b[0;34m=\u001b[0m \u001b[0mplayer_choice\u001b[0m\u001b[0;34m(\u001b[0m\u001b[0mvariables\u001b[0m\u001b[0;34m)\u001b[0m\u001b[0;34m\u001b[0m\u001b[0;34m\u001b[0m\u001b[0m\n\u001b[0m",
      "\u001b[0;32m<ipython-input-6-597c9ec7db27>\u001b[0m in \u001b[0;36mplayer_choice\u001b[0;34m(selection)\u001b[0m\n\u001b[1;32m      7\u001b[0m     \u001b[0;32mwhile\u001b[0m \u001b[0;32mTrue\u001b[0m\u001b[0;34m:\u001b[0m\u001b[0;34m\u001b[0m\u001b[0;34m\u001b[0m\u001b[0m\n\u001b[1;32m      8\u001b[0m \u001b[0;34m\u001b[0m\u001b[0m\n\u001b[0;32m----> 9\u001b[0;31m         \u001b[0mplay\u001b[0m \u001b[0;34m=\u001b[0m \u001b[0minput\u001b[0m\u001b[0;34m(\u001b[0m\u001b[0;34m\"Elige:\"\u001b[0m\u001b[0;34m)\u001b[0m\u001b[0;34m\u001b[0m\u001b[0;34m\u001b[0m\u001b[0m\n\u001b[0m\u001b[1;32m     10\u001b[0m \u001b[0;34m\u001b[0m\u001b[0m\n\u001b[1;32m     11\u001b[0m         \u001b[0;32mfor\u001b[0m \u001b[0melement\u001b[0m \u001b[0;32min\u001b[0m \u001b[0mselection\u001b[0m\u001b[0;34m:\u001b[0m\u001b[0;34m\u001b[0m\u001b[0;34m\u001b[0m\u001b[0m\n",
      "\u001b[0;32m~/.local/lib/python3.6/site-packages/ipykernel/kernelbase.py\u001b[0m in \u001b[0;36mraw_input\u001b[0;34m(self, prompt)\u001b[0m\n\u001b[1;32m    852\u001b[0m         \u001b[0;32mif\u001b[0m \u001b[0;32mnot\u001b[0m \u001b[0mself\u001b[0m\u001b[0;34m.\u001b[0m\u001b[0m_allow_stdin\u001b[0m\u001b[0;34m:\u001b[0m\u001b[0;34m\u001b[0m\u001b[0;34m\u001b[0m\u001b[0m\n\u001b[1;32m    853\u001b[0m             raise StdinNotImplementedError(\n\u001b[0;32m--> 854\u001b[0;31m                 \u001b[0;34m\"raw_input was called, but this frontend does not support input requests.\"\u001b[0m\u001b[0;34m\u001b[0m\u001b[0;34m\u001b[0m\u001b[0m\n\u001b[0m\u001b[1;32m    855\u001b[0m             )\n\u001b[1;32m    856\u001b[0m         return self._input_request(str(prompt),\n",
      "\u001b[0;31mStdinNotImplementedError\u001b[0m: raw_input was called, but this frontend does not support input requests."
     ]
    }
   ],
   "source": [
    "# Define a function that asks your choice: 'stone', 'paper' or 'scissors'\n",
    "# you should only allow one of the 3 options. This is defensive programming.\n",
    "# If it is not stone, paper or scissors keep asking until it is.\n",
    "\n",
    "def player_choice(selection):\n",
    "\n",
    "    while True:\n",
    "    \n",
    "        play = input(\"Elige:\")\n",
    "\n",
    "        for element in selection:\n",
    "\n",
    "            if element[0] == play:\n",
    "\n",
    "                return element\n",
    "\n",
    "        print(\"Entrada no válida, vuelve a elegir\")\n",
    "\n",
    "\n",
    "player = player_choice(variables)"
   ]
  },
  {
   "cell_type": "code",
   "execution_count": 0,
   "metadata": {},
   "outputs": [],
   "source": [
    "# Define a function that resolves a combat.\n",
    "# Returns 0 if there is a tie, 1 if the machine wins, 2 if the human player wins\n",
    " \n",
    "def battle(machine_selection, player_selection):\n",
    "\n",
    "    result = 0\n",
    "\n",
    "    if machine_selection[0] == player_selection[2]:\n",
    "\n",
    "        result = 2\n",
    "\n",
    "    if machine_selection[0] == player_selection[1]:\n",
    "\n",
    "        result = 1\n",
    "\n",
    "    return result\n",
    "\n",
    "\n",
    "result = battle(machine, player)"
   ]
  },
  {
   "cell_type": "code",
   "execution_count": 0,
   "metadata": {},
   "outputs": [],
   "source": [
    "# Define a function that shows the choice of each player and the state of the game\n",
    "# This function should be used every time accumulated points are updated\n",
    "\n",
    "def state_game(machine, player, result):\n",
    "\n",
    "\n",
    "    if result == 1:\n",
    "        winner = (\"Jugador\", machine[0], player[0])\n",
    "\n",
    "    elif result == 2:\n",
    "        winner = (\"Máquina\", machine[0], player[0])\n",
    "\n",
    "    elif result == 0:\n",
    "        winner = (\"Empate\", machine[0], player[0])\n",
    "\n",
    "    return winner\n",
    "\n",
    "state_game(machine, player, result)  "
   ]
  },
  {
   "cell_type": "code",
   "execution_count": 0,
   "metadata": {},
   "outputs": [],
   "source": [
    "# Create two variables that accumulate the wins of each participant\n",
    "\n",
    "machine_wins = 0\n",
    "\n",
    "player_wins = 0"
   ]
  },
  {
   "cell_type": "code",
   "execution_count": 0,
   "metadata": {},
   "outputs": [],
   "source": [
    "# Create a loop that iterates while no player reaches the minimum of wins\n",
    "# necessary to win. Inside the loop solves the play of the\n",
    "# machine and ask the player's. Compare them and update the value of the variables\n",
    "# that accumulate the wins of each participant.\n",
    "\n",
    "while machine_wins < win_games and player_wins < win_games:\n",
    "\n",
    "    machine = machine_choice(variables)\n",
    "\n",
    "    player = player_choice(variables)\n",
    "\n",
    "    result = battle(machine, player)\n",
    "\n",
    "    state_game_def = state_game(machine, player, result)\n",
    "\n",
    "    if state_game_def[0] == \"Jugador\":\n",
    "\n",
    "        player_wins += 1\n",
    "\n",
    "    elif state_game_def[0] == \"Máquina\":\n",
    "\n",
    "        machine_wins +=1\n",
    "    \n",
    "# Print by console the winner of the game based on who has more accumulated wins\n",
    "  \n",
    "  if player_wins == win_games:\n",
    "\n",
    "    winner_def = \"Jugador\"\n",
    "\n",
    "elif machine_wins == win_games:\n",
    "\n",
    "    winner_def = \"Máquina\"\n",
    "\n",
    "print(\"El ganador al mejor de %d es %s\" %(max_games, winner_def))"
   ]
  },
  {
   "cell_type": "markdown",
   "metadata": {},
   "source": [
    "**Expected output**: Depends on the inputs, you know how to play and what to expect. "
   ]
  },
  {
   "cell_type": "markdown",
   "metadata": {},
   "source": [
    "# Bonus: Stone, paper, scissors, lizard, spock\n",
    "\n",
    "Now the improvement begins.\n",
    "\n",
    "![](images/rpsls.jpg)\n",
    "\n",
    "\n",
    "http://www.samkass.com/theories/RPSSL.html\n",
    "\n",
    "You are asked to impliment some improvements with respect to the simple previous game. In addition, the number of games (which must be ODD) will be requested per console until a valid number is entered.\n",
    "\n",
    "Improvements:\n",
    "* 5 options: stone, paper, scissors, lizard, spock\n",
    "* The number of games is requested per console\n",
    "Tip: Reuse code that you already use. If you have programmed intelligently, the bonus are simple modifications to the original game."
   ]
  },
  {
   "cell_type": "code",
   "execution_count": 0,
   "metadata": {},
   "outputs": [],
   "source": [
    "# Import the choice function of the random module\n",
    "\n",
    "import random"
   ]
  },
  {
   "cell_type": "code",
   "execution_count": 0,
   "metadata": {},
   "outputs": [],
   "source": [
    "# Define a function that asks for an odd number on the keyboard, until it is not valid\n",
    "# will keep asking\n",
    "\n",
    "def odd_number():\n",
    "    odd_condition = False\n",
    "    while odd_condition == False:\n",
    "        request = int(input(\"Introduce odd number:\"))\n",
    "    \n",
    "        if request % 2 != 0:\n",
    "            odd_condition == True\n",
    "            break\n",
    "        else:\n",
    "            print(\"Your response was wrong\")\n",
    "\n",
    "    return request\n",
    "\n",
    "max_games_2 = odd_number()\n",
    "\n"
   ]
  },
  {
   "cell_type": "code",
   "execution_count": 0,
   "metadata": {},
   "outputs": [],
   "source": [
    "# Assign a list of 5 possible options.\n",
    "\n",
    "variables_2 = [(\"scissors\", (\"paper\", \"lizard\"), (\"spock\",\"stone\")), (\"paper\", (\"stone\", \"spock\"), (\"lizard\",\"scissors\")), (\"stone\", (\"lizard\",\"scissors\"),(\"spock\",\"paper\")), (\"lizard\",(\"paper\",\"spock\"), (\"rock\", \"scissors\")), (\"spock\", (\"rock\", \"scissors\"), (\"lizard\", \"paper\"))]"
   ]
  },
  {
   "cell_type": "code",
   "execution_count": 0,
   "metadata": {},
   "outputs": [],
   "source": [
    "# Assign a variable to the maximum number of games: 1, 3, 5, etc ...\n",
    "# This time the previously defined function is used\n",
    "\n",
    "odd_number()"
   ]
  },
  {
   "cell_type": "code",
   "execution_count": 0,
   "metadata": {},
   "outputs": [],
   "source": [
    "# Assign a variable to the number of games a player must win to win.\n",
    "# Preferably the value will be based on the number of maximum games\n",
    "\n",
    "import math\n",
    "\n",
    "def max_games_2(turns):\n",
    "\n",
    "    result = turns/2 + 1\n",
    "\n",
    "    return math.trunc(result)\n",
    "\n",
    "win_games_2 = win_games_2(max_games_2)"
   ]
  },
  {
   "cell_type": "code",
   "execution_count": 0,
   "metadata": {},
   "outputs": [],
   "source": [
    "# Define a function that randomly returns one of the 5 options.\n",
    "# This will correspond to the play of the machine. Totally random.\n",
    "\n",
    "\n",
    "# machine_2 = machine_choice(variables_2)"
   ]
  },
  {
   "cell_type": "code",
   "execution_count": 0,
   "metadata": {},
   "outputs": [],
   "source": [
    "# Define a function that asks your choice between 5\n",
    "# you should only allow one of the 5 options. This is defensive programming.\n",
    "# If it is not valid, keep asking until it is valid.\n",
    "\n",
    "\n",
    "# player_2 = player_choice(variables_2)"
   ]
  },
  {
   "cell_type": "code",
   "execution_count": 0,
   "metadata": {},
   "outputs": [],
   "source": [
    "# Define a function that resolves a combat.\n",
    "# Returns 0 if there is a tie, 1 if the machine wins, 2 if the human player wins\n",
    "# Now there are more options\n",
    "\n",
    "def battle_2(machine_selection_2, player_selection_2):\n",
    "\n",
    "    result = 0\n",
    "\n",
    "    if machine_selection_2[0] in player_selection_2[2]:\n",
    "\n",
    "        result = 2\n",
    "\n",
    "    if machine_selection_2[0] in player_selection_2[1]:\n",
    "\n",
    "        result = 1\n",
    "\n",
    "    return result\n",
    "\n",
    "# result_2 = battle_2(machine_2,player_2)"
   ]
  },
  {
   "cell_type": "code",
   "execution_count": 0,
   "metadata": {},
   "outputs": [],
   "source": [
    "# Define a function that shows the choice of each player and the state of the game\n",
    "# This function should be used every time accumulated points are updated\n",
    "\n",
    "# state_game()"
   ]
  },
  {
   "cell_type": "code",
   "execution_count": 0,
   "metadata": {},
   "outputs": [],
   "source": [
    "# Create two variables that accumulate the wins of each participant\n",
    "\n",
    "machine_wins_2 = 0\n",
    "\n",
    "player_wins_2 = 0"
   ]
  },
  {
   "cell_type": "code",
   "execution_count": 0,
   "metadata": {},
   "outputs": [],
   "source": [
    "# Create a loop that iterates while no player reaches the minimum of wins\n",
    "# necessary to win. Inside the loop solves the play of the\n",
    "# machine and ask the player's. Compare them and update the value of the variables\n",
    "# that accumulate the wins of each participant.\n",
    "\n",
    "while machine_wins_2 < win_games_2 and player_wins_2 < win_games_2:\n",
    "\n",
    "    machine_2 = machine_choice(variables_2)\n",
    "\n",
    "    player_2 = player_choice(variables_2)\n",
    "\n",
    "    result_2 = battle_2(machine_2, player_2)\n",
    "\n",
    "    state_game_def = state_game(machine_2, player_2, result_2)\n",
    "\n",
    "    if state_game_def[0] == \"Jugador\":\n",
    "\n",
    "        player_wins_2 += 1\n",
    "\n",
    "    elif state_game_def[0] == \"Máquina\":\n",
    "\n",
    "        machine_wins_2 += 1\n",
    "\n",
    "    print(machine_wins_2, player_wins_2)"
   ]
  },
  {
   "cell_type": "code",
   "execution_count": 0,
   "metadata": {},
   "outputs": [],
   "source": [
    "# Print by console the winner of the game based on who has more accumulated wins\n",
    "\n",
    "if player_wins_2 == win_games_2:\n",
    "\n",
    "    winner_def_2 = \"Player\"\n",
    "\n",
    "elif machine_wins_2 == win_games_2:\n",
    "\n",
    "    winner_def_2 = \"Machine\"\n",
    "\n",
    "print(\"The best of %d is %s\" %(max_games_2, winner_def_2))"
   ]
  },
  {
   "cell_type": "markdown",
   "metadata": {},
   "source": [
    "**Expected output**: Depends on the inputs, you know how to play and what to expect. "
   ]
  }
 ],
 "metadata": {
  "kernelspec": {
   "display_name": "Python 3",
   "language": "python",
   "name": "python3"
  },
  "language_info": {
   "codemirror_mode": {
    "name": "ipython",
    "version": 3
   },
   "file_extension": ".py",
   "mimetype": "text/x-python",
   "name": "python",
   "nbconvert_exporter": "python",
   "pygments_lexer": "ipython3",
   "version": "3.6.9"
  }
 },
 "nbformat": 4,
 "nbformat_minor": 2
}