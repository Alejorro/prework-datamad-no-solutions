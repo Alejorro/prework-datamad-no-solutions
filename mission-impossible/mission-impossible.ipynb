{
 "cells": [
  {
   "cell_type": "markdown",
   "metadata": {},
   "source": [
    "# Mission Impossible\n",
    "\n",
    "## Intro\n",
    "*Good morning, Mr. Hunt. Your mission, should you choose to accept it, involves the recovery of a stolen item designated \"Chimera.\" You may select any two team members, but it is essential that the third member of your team be Nyah Nordoff-Hall. She is a civilian, and a highly capable professional thief. You have forty-eight hours to recruit Miss Hall and meet me in Seville to receive your assignment. As always, should any member of your team be caught or killed, the Secretary will disavow all knowledge of your actions. And Mr. Hunt, the next time you go on holiday, please be good enough to let us know where you're going. This message will self-destruct in five seconds.*\n",
    "\n",
    "<img src=\"images/mission-impossible.jpg\" width=\"400\">\n",
    "\n",
    "\n",
    "## Problem\n",
    "You are the computer scientist who has to protect valuable national intelligence data. This data is in a computer without internet connection in a room with a tactile floor that detects the pressure. But you've discovered that more than one spy has infiltrated and stolen data, so you have to implement and test the new security system.\n",
    "\n",
    "An ultrasensitive microphone has been installed that records all sound in the room. The list of sounds is stored in a list called dbs. As soon as the door closes it will alert if noise is detected above a threshold of 10 decibels: the alarm will sound and alert the entire building.\n",
    "\n",
    "Each item in the dbs list corresponds to a 5 second interval\n",
    "```\n",
    "dbs = [0, 1, 0, 0, 0, 0, 1, 0, 1, 23, 1, 0, 1, 1, 0, 0, 0, \n",
    "       1, 1, 0, 20, 1, 1, 15, 1, 0, 0, 0, 40, 15, 0, 0]\n",
    "```\n"
   ]
  },
  {
   "cell_type": "code",
   "execution_count": 7,
   "metadata": {},
   "outputs": [],
   "source": [
    "# Variables\n",
    "\n",
    "dbs = [0, 1, 0, 0, 0, 0, 1, 0, 1, 23, 1, 0, 1, 1, 0, 0, 0, \n",
    "       1, 1, 0, 20, 1, 1, 15, 1, 0, 0, 0, 40, 15, 0, 0]"
   ]
  },
  {
   "cell_type": "code",
   "execution_count": 8,
   "metadata": {},
   "outputs": [
    {
     "name": "stdout",
     "output_type": "stream",
     "text": "[23, 20, 15, 40, 15]\n"
    }
   ],
   "source": [
    "# Show volumes that exceed 10 dBs\n",
    "\n",
    "exceed = list(filter(lambda x: x>=10,dbs))\n",
    "\n",
    "print(exceed)\n"
   ]
  },
  {
   "cell_type": "markdown",
   "metadata": {},
   "source": [
    "**Expected output**: \n",
    "```\n",
    "[23, 20, 15, 40, 15]\n",
    "```"
   ]
  },
  {
   "cell_type": "code",
   "execution_count": 9,
   "metadata": {},
   "outputs": [
    {
     "name": "stdout",
     "output_type": "stream",
     "text": "[9, 20, 23, 28, 29]\n[9, 20, 23, 28, 29]\n"
    }
   ],
   "source": [
    "# Show the moments (indexs of the list) in which a volume exceeds 10 dBs\n",
    "\n",
    "\n",
    "index_exceed_2 = [position_2 for position_2, value_2 in enumerate(dbs) if value_2 in exceed]\n",
    "\n",
    "print(index_exceed_2)\n",
    "\n",
    "\n",
    "#Another way with a function:\n",
    "\n",
    "def search_index_exceed(dbs, exceed):\n",
    "\n",
    "\n",
    "    index_exceed= [dbs.index(position) for position in exceed if exceed.count(position)==1]\n",
    "\n",
    "\n",
    "    saving = []\n",
    "\n",
    "    for turn, value in enumerate(exceed):\n",
    "\n",
    "        if exceed.count(value) > 1 and value not in saving:\n",
    "\n",
    "            saving.append(value)\n",
    "\n",
    "            index_exceed.insert(turn, dbs.index(value))\n",
    "\n",
    "        elif exceed.count(value) > 1 and value in saving:\n",
    "\n",
    "            for position, element in enumerate(dbs):\n",
    "\n",
    "                if element == value and position not in index_exceed:\n",
    "\n",
    "                    index_exceed.insert(turn, position)\n",
    "\n",
    "\n",
    "    return index_exceed\n",
    "\n",
    "\n",
    "index_exceed = search_index_exceed(dbs, exceed)\n",
    "\n",
    "\n",
    "print(index_exceed)\n",
    "\n"
   ]
  },
  {
   "cell_type": "markdown",
   "metadata": {},
   "source": [
    "**Expected output**: \n",
    "```\n",
    "[9, 20, 23, 28, 29]\n",
    "```"
   ]
  },
  {
   "cell_type": "code",
   "execution_count": 10,
   "metadata": {},
   "outputs": [
    {
     "name": "stdout",
     "output_type": "stream",
     "text": "[(9, 23), (20, 20), (23, 15), (28, 40), (29, 15)]\n[(9, 23), (20, 20), (23, 15), (28, 40), (29, 15)]\n"
    }
   ],
   "source": [
    "# Combine the last two exercises to show the moments when a \n",
    "# volume exceeds 10 dBs. HINT: Use the enumerate function\n",
    "\n",
    "exceeds_10db = list(zip(index_exceed_2, exceed))\n",
    "\n",
    "print(exceeds_10db)\n",
    "\n",
    "\n",
    "#Another way with enumerate:\n",
    "\n",
    "exceeds_10db_2 = [(position,value) for position, value in enumerate(dbs) if value>=10]\n",
    "\n",
    "print(exceeds_10db_2)\n"
   ]
  },
  {
   "cell_type": "markdown",
   "metadata": {},
   "source": [
    "**Expected output**: \n",
    "```\n",
    "[(9, 23), (20, 20), (23, 15), (28, 40), (29, 15)]\n",
    "```"
   ]
  },
  {
   "cell_type": "code",
   "execution_count": 11,
   "metadata": {},
   "outputs": [
    {
     "name": "stdout",
     "output_type": "stream",
     "text": "Alarm!\n"
    }
   ],
   "source": [
    "# Ethan is discovered if two consecutive volumes are greater than 10 dB. Is he safe? \n",
    "# HINT: Beware of the extremes, do not have an error of the type\n",
    "# IndexError: list index out of range\n",
    "\n",
    "saving = 0\n",
    "\n",
    "for position, element in enumerate(exceeds_10db):\n",
    "\n",
    "        \n",
    "    if position !=0 and element[0] == (saving + 1):\n",
    "\n",
    "        print(\"Alarm!\")\n",
    "\n",
    "\n",
    "    saving = element[0]\n"
   ]
  },
  {
   "cell_type": "markdown",
   "metadata": {},
   "source": [
    "**Expected output**: \n",
    "```\n",
    "Alarm!\n",
    "```"
   ]
  },
  {
   "cell_type": "markdown",
   "metadata": {},
   "source": [
    "## LINKS\n",
    "\n",
    "* Enumerate: https://www.programiz.com/python-programming/methods/built-in/enumerate\n",
    "* Decibel: https://en.wikipedia.org/wiki/Decibel\n",
    "\n",
    "## Goals\n",
    "\n",
    "1. Treatment of lists\n",
    "2. Use of for loop\n",
    "3. Use of conditional if-elif-else\n",
    "4. Use of the functions range(), len()\n",
    "5. Use of print()\n",
    "6. Use of enumerate()\n",
    "\n",
    "\n",
    "## Bonus\n",
    "Now you have the role of Ethan's hacker. To cheat the security system you are going to execute a computer code on the list dbs and you are going to **reduce** all values higher than 20 in 12 dBs but the ones higher than 30 in 18 dBs. Then confirm the result of your operation by printing the new modified dbs list on the screen."
   ]
  },
  {
   "cell_type": "code",
   "execution_count": 12,
   "metadata": {},
   "outputs": [
    {
     "name": "stdout",
     "output_type": "stream",
     "text": "[0, 1, 0, 0, 0, 0, 1, 0, 1, 11, 1, 0, 1, 1, 0, 0, 0, 1, 1, 0, 20, 1, 1, 15, 1, 0, 0, 0, 22, 15, 0, 0]\n"
    }
   ],
   "source": [
    "# Your code here\n",
    "\n",
    "for position, element in enumerate(dbs):\n",
    "\n",
    "    if element>20 and element<=29:\n",
    "\n",
    "        new_element = element - 12\n",
    "\n",
    "        dbs.remove(element)\n",
    "\n",
    "        dbs.insert(position, new_element)\n",
    "\n",
    "    elif element>30:\n",
    "\n",
    "        new_element = element- 18\n",
    "\n",
    "        dbs.remove(element)\n",
    "\n",
    "        dbs.insert(position,new_element)\n",
    "\n",
    "print(dbs)"
   ]
  },
  {
   "cell_type": "markdown",
   "metadata": {},
   "source": [
    "**Expected output**: \n",
    "```\n",
    "Pre hacking: \n",
    "[0, 1, 0, 0, 0, 0, 1, 0, 1, 23, 1, 0, 1, 1, 0, 0, 0, 1, 1, 0, 20, 1, 1, 15, 1, 0, 0, 0, 40, 15, 0, 0]\n",
    "Post hacking: \n",
    "[0, 1, 0, 0, 0, 0, 1, 0, 1, 11, 1, 0, 1, 1, 0, 0, 0, 1, 1, 0, 20, 1, 1, 15, 1, 0, 0, 0, 22, 15, 0, 0]\n",
    "```"
   ]
  }
 ],
 "metadata": {
  "kernelspec": {
   "display_name": "Python 3",
   "language": "python",
   "name": "python3"
  },
  "language_info": {
   "codemirror_mode": {
    "name": "ipython",
    "version": 3
   },
   "file_extension": ".py",
   "mimetype": "text/x-python",
   "name": "python",
   "nbconvert_exporter": "python",
   "pygments_lexer": "ipython3",
   "version": "3.6.9"
  }
 },
 "nbformat": 4,
 "nbformat_minor": 2
}