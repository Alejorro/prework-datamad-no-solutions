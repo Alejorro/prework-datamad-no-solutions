{
 "cells": [
  {
   "cell_type": "markdown",
   "metadata": {},
   "source": [
    "# Bus\n",
    "\n",
    "This bus has a passenger entry and exit control system to monitor the number of occupants it carries and thus detect when there is too high a capacity.\n",
    "\n",
    "At each stop the entry and exit of passengers is represented by a tuple consisting of two integer numbers.\n",
    "```\n",
    "bus_stop = (in, out)\n",
    "```\n",
    "The succession of stops is represented by a list of these tuples.\n",
    "```\n",
    "stops = [(in1, out1), (in2, out2), (in3, out3), (in4, out4)]\n",
    "```\n",
    "\n",
    "## Goals:\n",
    "* lists, tuples\n",
    "* while/for loops\n",
    "* minimum, maximum, length\n",
    "* average, standard deviation\n",
    "\n",
    "## Tasks\n",
    "1. Calculate the number of stops.\n",
    "2. Assign to a variable a list whose elements are the number of passengers at each stop (in-out),\n",
    "3. Find the maximum occupation of the bus.\n",
    "4. Calculate the average occupation. And the standard deviation.\n"
   ]
  },
  {
   "cell_type": "code",
   "execution_count": 1,
   "metadata": {},
   "outputs": [],
   "source": [
    "# variables\n",
    "\n",
    "stops = [(10, 0), (4, 1), (3, 5), (3, 4), (5, 1), (1, 5), (5, 8), (4, 6), (2, 3)]"
   ]
  },
  {
   "cell_type": "code",
   "execution_count": 2,
   "metadata": {},
   "outputs": [
    {
     "name": "stdout",
     "output_type": "stream",
     "text": "9\n"
    }
   ],
   "source": [
    "# 1. Calculate the number of stops.\n",
    "\n",
    "print(len(stops))"
   ]
  },
  {
   "cell_type": "markdown",
   "metadata": {},
   "source": [
    "**Expected output**:\n",
    "```\n",
    "9\n",
    "```"
   ]
  },
  {
   "cell_type": "code",
   "execution_count": 3,
   "metadata": {},
   "outputs": [
    {
     "name": "stdout",
     "output_type": "stream",
     "text": "[10, 13, 11, 10, 14, 10, 7, 5, 4]\n"
    }
   ],
   "source": [
    "# 2. Assign a variable a list whose elements are the number of passengers in each stop: \n",
    "# Each item depends on the previous item in the list + in - out.\n",
    "\n",
    "passengers = [stop[0] - stop[1] for stop in stops]\n",
    "\n",
    "result = []\n",
    "\n",
    "for s,p in enumerate(passengers):\n",
    "\n",
    "    if s >= 1:\n",
    "\n",
    "        saving = p + result[s-1]\n",
    "\n",
    "        result.append(saving)\n",
    "\n",
    "    else:\n",
    "        result.append(p)\n",
    "\n",
    "\n",
    "print(result)"
   ]
  },
  {
   "cell_type": "markdown",
   "metadata": {},
   "source": [
    "**Expected output**:\n",
    "```\n",
    "[10, 13, 11, 10, 14, 10, 7, 5, 4]\n",
    "```"
   ]
  },
  {
   "cell_type": "code",
   "execution_count": 4,
   "metadata": {},
   "outputs": [
    {
     "name": "stdout",
     "output_type": "stream",
     "text": "14\n"
    }
   ],
   "source": [
    "# 3. Find the maximum occupation of the bus.\n",
    "\n",
    "print(max(result))"
   ]
  },
  {
   "cell_type": "markdown",
   "metadata": {},
   "source": [
    "**Expected output**:\n",
    "```\n",
    "14\n",
    "```"
   ]
  },
  {
   "cell_type": "code",
   "execution_count": 5,
   "metadata": {},
   "outputs": [
    {
     "name": "stdout",
     "output_type": "stream",
     "text": "9.333333333333334\n3.391164991562634\n"
    }
   ],
   "source": [
    "# 4. Calculate the average occupation. And the standard deviation.\n",
    "import statistics\n",
    "\n",
    "print(statistics.mean(result))\n",
    "\n",
    "print(statistics.stdev(result))\n"
   ]
  },
  {
   "cell_type": "markdown",
   "metadata": {},
   "source": [
    "**Expected output**:\n",
    "```\n",
    "9.333333333333334\n",
    "3.197221015541813\n",
    "```"
   ]
  },
  {
   "cell_type": "code",
   "execution_count": 6,
   "metadata": {},
   "outputs": [],
   "source": [
    "#EXTRA WITH RANDOM AND 35 SEATS:"
   ]
  },
  {
   "cell_type": "code",
   "execution_count": 7,
   "metadata": {},
   "outputs": [],
   "source": [
    "# variables\n",
    "\n",
    "max_passengers = 35\n",
    "\n",
    "in1 = 0\n",
    "\n",
    "out1 = 0\n",
    "\n",
    "\n",
    "in2 = 0\n",
    "\n",
    "out2 = 0\n",
    "\n",
    "\n",
    "in3 = 0\n",
    "\n",
    "out3 = 0\n",
    "\n",
    "\n",
    "in4 = 0\n",
    "\n",
    "out4 = 0\n",
    "\n",
    "\n",
    "stops = [(in1, out1), (in2, out2), (in3, out3), (in4, out4)]"
   ]
  },
  {
   "cell_type": "code",
   "execution_count": 8,
   "metadata": {},
   "outputs": [
    {
     "name": "stdout",
     "output_type": "stream",
     "text": "Hubo un total de 4 paradas\n"
    }
   ],
   "source": [
    "# 1. Calculate the number of stops.\n",
    "\n",
    "stops_calc = len(stops)\n",
    "\n",
    "\n",
    "print(\"Hubo un total de %d paradas\" %(stops_calc))"
   ]
  },
  {
   "cell_type": "code",
   "execution_count": 9,
   "metadata": {},
   "outputs": [
    {
     "name": "stdout",
     "output_type": "stream",
     "text": "Los resultados de entradas y salida por stop son: [(16, 0), (3, 17), (24, 22), (0, 4)]\n"
    }
   ],
   "source": [
    "# 2. Assign a variable a list whose elements are the number of passengers in each stop: \n",
    "# Each item depends on the previous item in the list + in - out.\n",
    "\n",
    "\n",
    "import random\n",
    "\n",
    "\n",
    "max_passengers = 35\n",
    "\n",
    "\n",
    "in1 = random.randint(0,max_passengers)\n",
    "\n",
    "out1= 0\n",
    "\n",
    "\n",
    "\n",
    "in2 =  random.randint(0, (max_passengers - (in1-out1)))\n",
    "\n",
    "out2 = abs(random.randint(0,((in1-out1)+in2)))\n",
    "\n",
    "\n",
    "    \n",
    "in3 =  random.randint(0,(max_passengers - ((in1-out1) + (in2-out2))))\n",
    "\n",
    "out3 = abs(random.randint(0,((in1-out1)+(in2-out2)+in3)))\n",
    "\n",
    "\n",
    "\n",
    "in4 =  0\n",
    "\n",
    "out4 = (in1-out1) + (in2-out2) + (in3-out3) + in4\n",
    "\n",
    "\n",
    "\n",
    "stops = [(in1, out1), (in2, out2), (in3, out3), (in4, out4)]\n",
    "\n",
    "print(\"Los resultados de entradas y salida por stop son:\", stops)"
   ]
  },
  {
   "cell_type": "code",
   "execution_count": 10,
   "metadata": {},
   "outputs": [
    {
     "name": "stdout",
     "output_type": "stream",
     "text": "La máxima entrada de personas fue en la 3º parada.\n"
    }
   ],
   "source": [
    "# 3. Find the maximum occupation of the bus\n",
    "\n",
    "max_in = stops.index(max(stops)) + 1\n",
    "\n",
    "print(\"La máxima entrada de personas fue en la %dº parada.\" %(max_in))"
   ]
  },
  {
   "cell_type": "code",
   "execution_count": 11,
   "metadata": {},
   "outputs": [
    {
     "name": "stdout",
     "output_type": "stream",
     "text": "[[1, 16], [2, 2], [3, 4], [4, 0]]\nLa máxima ocupación fue de 16 personas, 19 personas menos que el máximo permitido de 35\n"
    }
   ],
   "source": [
    "def final_result(data):\n",
    "\n",
    "    support = 0\n",
    "\n",
    "    result = []\n",
    "\n",
    "    for stop,occupation in enumerate(data):\n",
    "\n",
    "        support += occupation\n",
    "        \n",
    "        result.append([(stop+1),support])\n",
    "\n",
    "    print(result)\n",
    "\n",
    "    return  result\n",
    "\n",
    "calc = final_result([(in1 - out1), (in2 - out2), (in3 - out3), (in4 - out4)])\n",
    "\n",
    "\n",
    "\n",
    "max_occupation = max(calc[0][1], calc[1][1], calc[2][1], calc[3][1])\n",
    "\n",
    "print(\"La máxima ocupación fue de %d personas, %d personas menos que el máximo permitido de %d\" %(max_occupation ,(max_passengers-max_occupation),max_passengers))\n"
   ]
  },
  {
   "cell_type": "code",
   "execution_count": 12,
   "metadata": {},
   "outputs": [
    {
     "name": "stdout",
     "output_type": "stream",
     "text": "La media de ocupación fue de 5.\nLa desviación estándar fue de 7.\n"
    }
   ],
   "source": [
    "# 4. Calculate the average occupation. And the standard deviation.\n",
    "\n",
    "import statistics as stats\n",
    "\n",
    "\n",
    "data_occupation = calc[0][1], calc[1][1], calc[2][1], calc[3][1]\n",
    "\n",
    "\n",
    "mean_calc = stats.mean(data_occupation)\n",
    "\n",
    "desviation_calc = stats.stdev(data_occupation)\n",
    "\n",
    "\n",
    "\n",
    "print(\"La media de ocupación fue de %d.\" %(mean_calc))\n",
    "\n",
    "\n",
    "print(\"La desviación estándar fue de %d.\" %(desviation_calc))"
   ]
  }
 ],
 "metadata": {
  "kernelspec": {
   "display_name": "Python 3",
   "language": "python",
   "name": "python3"
  },
  "language_info": {
   "codemirror_mode": {
    "name": "ipython",
    "version": 3
   },
   "file_extension": ".py",
   "mimetype": "text/x-python",
   "name": "python",
   "nbconvert_exporter": "python",
   "pygments_lexer": "ipython3",
   "version": "3.6.9"
  }
 },
 "nbformat": 4,
 "nbformat_minor": 2
}