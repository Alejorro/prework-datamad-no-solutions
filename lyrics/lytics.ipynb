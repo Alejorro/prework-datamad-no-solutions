{
 "cells": [
  {
   "cell_type": "markdown",
   "metadata": {},
   "source": [
    "# Lyrics\n",
    "## Intro\n",
    "This exercise is simple. You are going to create a code that writes the lyrics of a famous song. **The shorter your code is, the better**. Although it may seem a bit silly, it is important that you learn to automate repetitive tasks or that there are few changes between them.\n",
    "\n",
    "<img src=\"./images/babyshark.jpeg\" width=\"400\">\n",
    "\n",
    "## Song\n",
    "\n",
    "```\n",
    "Baby shark, doo doo doo doo doo doo\n",
    "Baby shark, doo doo doo doo doo doo\n",
    "Baby shark, doo doo doo doo doo doo\n",
    "Baby shark!\n",
    "Mommy shark, doo doo doo doo doo doo\n",
    "Mommy shark, doo doo doo doo doo doo\n",
    "Mommy shark, doo doo doo doo doo doo\n",
    "Mommy shark!\n",
    "Daddy shark, doo doo doo doo doo doo\n",
    "Daddy shark, doo doo doo doo doo doo\n",
    "Daddy shark, doo doo doo doo doo doo\n",
    "Daddy shark!\n",
    "Grandma shark, doo doo doo doo doo doo\n",
    "Grandma shark, doo doo doo doo doo doo\n",
    "Grandma shark, doo doo doo doo doo doo\n",
    "Grandma shark!\n",
    "Grandpa shark, doo doo doo doo doo doo\n",
    "Grandpa shark, doo doo doo doo doo doo\n",
    "Grandpa shark, doo doo doo doo doo doo\n",
    "Grandpa shark!\n",
    "Let's go hunt, doo doo doo doo doo doo\n",
    "Let's go hunt, doo doo doo doo doo doo\n",
    "Let's go hunt, doo doo doo doo doo doo\n",
    "Let's go hunt!\n",
    "Run away,… \n",
    "```\n",
    "\n",
    "\n",
    "## Goals\n",
    "\n",
    "0. Use of string methods: **format()**, **str()**\n",
    "1. Use of **for loop**\n",
    "2. Use of the function **range()**\n",
    "3. print()\n",
    "4. Use of functions\n",
    "5. Open files\n",
    "6. Refactoring\n",
    "\n",
    "## Hints\n",
    "\n",
    "* '\\n' is the character for new line. It must end every string in the third step. \n",
    "\n",
    "\n",
    "## Solution"
   ]
  },
  {
   "cell_type": "code",
   "execution_count": 401,
   "metadata": {},
   "outputs": [],
   "source": [
    "# Variable\n",
    "\n",
    "babyshark = '''Baby shark, doo doo doo doo doo doo\n",
    "Baby shark, doo doo doo doo doo doo\n",
    "Baby shark, doo doo doo doo doo doo\n",
    "Baby shark!\n",
    "Mommy shark, doo doo doo doo doo doo\n",
    "Mommy shark, doo doo doo doo doo doo\n",
    "Mommy shark, doo doo doo doo doo doo\n",
    "Mommy shark!\n",
    "Daddy shark, doo doo doo doo doo doo\n",
    "Daddy shark, doo doo doo doo doo doo\n",
    "Daddy shark, doo doo doo doo doo doo\n",
    "Daddy shark!\n",
    "Grandma shark, doo doo doo doo doo doo\n",
    "Grandma shark, doo doo doo doo doo doo\n",
    "Grandma shark, doo doo doo doo doo doo\n",
    "Grandma shark!\n",
    "Grandpa shark, doo doo doo doo doo doo\n",
    "Grandpa shark, doo doo doo doo doo doo\n",
    "Grandpa shark, doo doo doo doo doo doo\n",
    "Grandpa shark!\n",
    "Let's go hunt, doo doo doo doo doo doo\n",
    "Let's go hunt, doo doo doo doo doo doo\n",
    "Let's go hunt, doo doo doo doo doo doo\n",
    "Let's go hunt!\n",
    "Run away,…'''"
   ]
  },
  {
   "cell_type": "markdown",
   "metadata": {},
   "source": [
    "### Step 1: First Paragraph\n",
    "Create a code to print the first paragraph and asign it to a variable. "
   ]
  },
  {
   "cell_type": "code",
   "execution_count": 402,
   "metadata": {},
   "outputs": [
    {
     "name": "stdout",
     "output_type": "stream",
     "text": "Baby shark, doo doo doo doo doo doo\nBaby shark, doo doo doo doo doo doo\nBaby shark, doo doo doo doo doo doo\nBaby shark!\n"
    }
   ],
   "source": [
    "# your code here\n",
    "\n",
    "length = 0\n",
    "\n",
    "for word in babyshark:\n",
    "    if word != \"!\":\n",
    "        length += 1\n",
    "    else:\n",
    "        break\n",
    "\n",
    "first_paragraph = babyshark[0:(length+1)]\n",
    "\n",
    "print(first_paragraph)\n"
   ]
  },
  {
   "cell_type": "markdown",
   "metadata": {},
   "source": [
    "**Expected output**:\n",
    "\n",
    "```\n",
    "Baby shark, doo doo doo doo doo doo\n",
    "Baby shark, doo doo doo doo doo doo\n",
    "Baby shark, doo doo doo doo doo doo\n",
    "Baby shark!\n",
    "```\n",
    "\n"
   ]
  },
  {
   "cell_type": "markdown",
   "metadata": {},
   "source": [
    "### Step 2: Full song\n",
    "\n",
    "Create a code that prints the complete lyrics. "
   ]
  },
  {
   "cell_type": "code",
   "execution_count": 403,
   "metadata": {},
   "outputs": [
    {
     "name": "stdout",
     "output_type": "stream",
     "text": "Baby shark, doo doo doo doo doo doo\nBaby shark, doo doo doo doo doo doo\nBaby shark, doo doo doo doo doo doo\nBaby shark!\nMommy shark, doo doo doo doo doo doo\nMommy shark, doo doo doo doo doo doo\nMommy shark, doo doo doo doo doo doo\nMommy shark!\nDaddy shark, doo doo doo doo doo doo\nDaddy shark, doo doo doo doo doo doo\nDaddy shark, doo doo doo doo doo doo\nDaddy shark!\nGrandma shark, doo doo doo doo doo doo\nGrandma shark, doo doo doo doo doo doo\nGrandma shark, doo doo doo doo doo doo\nGrandma shark!\nGrandpa shark, doo doo doo doo doo doo\nGrandpa shark, doo doo doo doo doo doo\nGrandpa shark, doo doo doo doo doo doo\nGrandpa shark!\nLet's go hunt, doo doo doo doo doo doo\nLet's go hunt, doo doo doo doo doo doo\nLet's go hunt, doo doo doo doo doo doo\nLet's go hunt\nRun away,…'''\n"
    }
   ],
   "source": [
    "# your code here:\n",
    "\n",
    "build = (\"Baby\", \"Mommy\", \"Daddy\", \"Grandma\", \"Grandpa\", \"Let's go hunt\", \", doo doo doo doo doo doo\\n\", \"Run away,…'''\")\n",
    "\n",
    "song = \"\"\n",
    "\n",
    "for first_paragraph in range(3):\n",
    "    song += build[0] + \" shark\" + build[6]\n",
    "\n",
    "song += build[0] + \" shark!\\n\"\n",
    "\n",
    "for second_paragraph in range(3):\n",
    "    song += build[1] + \" shark\" + build[6]\n",
    "\n",
    "song += build[1] + \" shark!\\n\"\n",
    "\n",
    "for third_paragraph in range(3):\n",
    "    song += build[2] + \" shark\" + build[6]\n",
    "\n",
    "song += build[2] + \" shark!\\n\"\n",
    "\n",
    "for fourth_paragraph in range(3):\n",
    "    song += build[3] + \" shark\" + build[6]\n",
    "\n",
    "song += build[3] + \" shark!\\n\"\n",
    "\n",
    "for fifth_paragraph in range(3):\n",
    "    song += build[4] + \" shark\" + build[6]\n",
    "\n",
    "song += build[4] + \" shark!\\n\"\n",
    "\n",
    "for sixth_paragraph in range(3):\n",
    "    song += build[5] + build[6]\n",
    "\n",
    "song += build[5] + \"\\n\" + build[7]\n",
    "\n",
    "print(song)\n",
    "\n",
    "\n",
    "#Another way:\n",
    "\n",
    "#  song+=(build[0]+build[6]+\"\\n\")*3+(build[1]+build[6]+\"\\n\")*3+(build[2]+build[6]+\"\\n\")*3+(build[3]+build[6]+\"\\n\")*3+(build[4]+build[6]+\"\\n\") *3+(build[5]+build[6]+\"\\n\")*3\n",
    "    \n",
    "\n",
    "\n"
   ]
  },
  {
   "cell_type": "markdown",
   "metadata": {},
   "source": [
    "**Expected output**:\n",
    "\n",
    "```\n",
    "Baby shark, doo doo doo doo doo doo\n",
    "Baby shark, doo doo doo doo doo doo\n",
    "Baby shark, doo doo doo doo doo doo\n",
    "Baby shark!\n",
    "Mommy shark, doo doo doo doo doo doo\n",
    "Mommy shark, doo doo doo doo doo doo\n",
    "Mommy shark, doo doo doo doo doo doo\n",
    "Mommy shark!\n",
    "Daddy shark, doo doo doo doo doo doo\n",
    "Daddy shark, doo doo doo doo doo doo\n",
    "Daddy shark, doo doo doo doo doo doo\n",
    "Daddy shark!\n",
    "Grandma shark, doo doo doo doo doo doo\n",
    "Grandma shark, doo doo doo doo doo doo\n",
    "Grandma shark, doo doo doo doo doo doo\n",
    "Grandma shark!\n",
    "Grandpa shark, doo doo doo doo doo doo\n",
    "Grandpa shark, doo doo doo doo doo doo\n",
    "Grandpa shark, doo doo doo doo doo doo\n",
    "Grandpa shark!\n",
    "Let's go hunt, doo doo doo doo doo doo\n",
    "Let's go hunt, doo doo doo doo doo doo\n",
    "Let's go hunt, doo doo doo doo doo doo\n",
    "Let's go hunt!\n",
    "Run away,… \n",
    "```\n",
    "\n",
    "### Step 3: Check output\n",
    "Now i want you must create a string variable called **result** to store all the characters and check if it is equal to the lyrics. Remenber de hint section. "
   ]
  },
  {
   "cell_type": "code",
   "execution_count": 404,
   "metadata": {},
   "outputs": [],
   "source": [
    "# your code here\n",
    "\n",
    "result = \"\"\n",
    "\n",
    "for word in babyshark:\n",
    "\n",
    "    result += word"
   ]
  },
  {
   "cell_type": "code",
   "execution_count": 405,
   "metadata": {},
   "outputs": [
    {
     "name": "stdout",
     "output_type": "stream",
     "text": "True\n"
    }
   ],
   "source": [
    "# Check\n",
    "\n",
    "print(result == babyshark)"
   ]
  },
  {
   "cell_type": "markdown",
   "metadata": {},
   "source": [
    "**Expected output**:\n",
    "\n",
    "```\n",
    "True\n",
    "```\n",
    "\n",
    "### Step 4: Function\n",
    " Create a functions called babyshark() that generates the wanted output. "
   ]
  },
  {
   "cell_type": "code",
   "execution_count": 406,
   "metadata": {},
   "outputs": [
    {
     "name": "stdout",
     "output_type": "stream",
     "text": "Baby shark, doo doo doo doo doo doo\nBaby shark, doo doo doo doo doo doo\nBaby shark, doo doo doo doo doo doo\nBaby shark!\nMommy shark, doo doo doo doo doo doo\nMommy shark, doo doo doo doo doo doo\nMommy shark, doo doo doo doo doo doo\nMommy shark!\nDaddy shark, doo doo doo doo doo doo\nDaddy shark, doo doo doo doo doo doo\nDaddy shark, doo doo doo doo doo doo\nDaddy shark!\nGrandma shark, doo doo doo doo doo doo\nGrandma shark, doo doo doo doo doo doo\nGrandma shark, doo doo doo doo doo doo\nGrandma shark!\nGrandpa shark, doo doo doo doo doo doo\nGrandpa shark, doo doo doo doo doo doo\nGrandpa shark, doo doo doo doo doo doo\nGrandpa shark!\nLet's go hunt, doo doo doo doo doo doo\nLet's go hunt, doo doo doo doo doo doo\nLet's go hunt, doo doo doo doo doo doo\nLet's go hunt!\nRun away,…\n"
    }
   ],
   "source": [
    "def baby_shark_lyrics():     \n",
    "    # your code here\n",
    "    song = \"\"\n",
    "    b = [\"Baby shark\", \"Mommy shark\", \"Daddy shark\", \"Grandma shark\",\n",
    "         \"Grandpa shark\", \"Let's go hunt\", \", doo doo doo doo doo doo\", \"Run away,…\"]\n",
    "    for i in range(6):\n",
    "        song += (b[i] +b[6] +\"\\n\") * 3 + (b[i]+\"!\\n\")\n",
    "    song += b[7]    \n",
    "    return song  \n",
    "\n",
    "song = baby_shark_lyrics()\n",
    "\n",
    "print(song)"
   ]
  },
  {
   "cell_type": "code",
   "execution_count": 407,
   "metadata": {},
   "outputs": [
    {
     "name": "stdout",
     "output_type": "stream",
     "text": "True\n"
    }
   ],
   "source": [
    "# Check\n",
    "\n",
    "print(baby_shark_lyrics() == babyshark)"
   ]
  },
  {
   "cell_type": "markdown",
   "metadata": {},
   "source": [
    "**Expected output**:\n",
    "\n",
    "```\n",
    "True\n",
    "```"
   ]
  },
  {
   "cell_type": "markdown",
   "metadata": {},
   "source": [
    "### Step 5: Files\n",
    "Baby shark lyrics can be read in the songs folder. Try to store the content of that file in a variable called **text** and check if it is equal to the babyshark variable and the output of your baby_shark_lyrics function. \n",
    "\n",
    "https://www.pythonforbeginners.com/files/reading-and-writing-files-in-python"
   ]
  },
  {
   "cell_type": "code",
   "execution_count": 408,
   "metadata": {},
   "outputs": [],
   "source": [
    "# your code here\n",
    "\n",
    "text = \"\"\n",
    "\n",
    "with open(\"/home/alex/Documentos/Repositorios/prework-datamad-no-solutions/lyrics/songs/baby-shark.txt\", \"r\") as test:\n",
    "\n",
    "    for line in test:\n",
    "\n",
    "        text += line\n"
   ]
  },
  {
   "cell_type": "code",
   "execution_count": 409,
   "metadata": {},
   "outputs": [
    {
     "name": "stdout",
     "output_type": "stream",
     "text": "True\n"
    }
   ],
   "source": [
    "# check\n",
    "\n",
    "print(text == babyshark)"
   ]
  },
  {
   "cell_type": "markdown",
   "metadata": {},
   "source": [
    "**Expected output**:\n",
    "\n",
    "```\n",
    "True\n",
    "```"
   ]
  },
  {
   "cell_type": "code",
   "execution_count": 410,
   "metadata": {},
   "outputs": [
    {
     "name": "stdout",
     "output_type": "stream",
     "text": "True\n"
    }
   ],
   "source": [
    "# Check\n",
    "\n",
    "print(baby_shark_lyrics() == text)"
   ]
  },
  {
   "cell_type": "markdown",
   "metadata": {},
   "source": [
    "**Expected output**:\n",
    "\n",
    "```\n",
    "True\n",
    "```"
   ]
  },
  {
   "cell_type": "markdown",
   "metadata": {},
   "source": [
    "### Step 6: Refactor\n",
    "Now I want you to refactor your **baby_shark_lyrics** function in order to be less than 400 characters. If your code is larger than 400 characters, you should change baby_shark_lyrics function in order to shorten it."
   ]
  },
  {
   "cell_type": "code",
   "execution_count": 411,
   "metadata": {},
   "outputs": [
    {
     "name": "stdout",
     "output_type": "stream",
     "text": "Your baby_shark_lyrics functions has 337 characters\nTrue\n"
    }
   ],
   "source": [
    "import inspect\n",
    "\n",
    "code = inspect.getsource(baby_shark_lyrics)\n",
    "\n",
    "# check\n",
    "\n",
    "print('Your baby_shark_lyrics functions has {} characters'.format(len(code)))\n",
    "print(len(code) < 400)"
   ]
  },
  {
   "cell_type": "markdown",
   "metadata": {},
   "source": [
    "**Expected output**:\n",
    "\n",
    "```\n",
    "Your baby_shark_lyrics functions has 367 characters\n",
    "True\n",
    "```"
   ]
  },
  {
   "cell_type": "markdown",
   "metadata": {},
   "source": [
    "## Bonus\n",
    "\n",
    "http://www.99-bottles-of-beer.net/\n",
    "\n",
    "Now let`s try with another lyric, you can find it in songs folder. \n",
    "\n",
    "### Step 1. Create bottles_lyrics function"
   ]
  },
  {
   "cell_type": "code",
   "execution_count": 412,
   "metadata": {},
   "outputs": [],
   "source": [
    "def bottles_lyrics():\n",
    "    # your code here. \n",
    "    text = \"\"\n",
    "    for bottles in range(99, 0, -1):\n",
    "        if bottles != 2 and bottles != 1:\n",
    "            constructor = f\"{bottles} bottles of beer on the wall, {bottles} bottles of beer.\\nTake one down and pass it around, {bottles-1} bottles of beer on the wall.\\n\\n\"\n",
    "            text += constructor\n",
    "        elif bottles == 2:\n",
    "            constructor = f\"{bottles} bottles of beer on the wall, {bottles} bottles of beer.\\nTake one down and pass it around, {bottles-1} bottle of beer on the wall.\\n\\n\"\n",
    "            text += constructor\n",
    "        elif bottles == 1:\n",
    "            constructor = f\"{bottles} bottle of beer on the wall, {bottles} bottle of beer.\\nTake one down and pass it around, no more bottles of beer on the wall.\\n\\n\"\n",
    "            text += constructor\n",
    "    final = \"No more bottles of beer on the wall, no more bottles of beer.\\nGo to the store and buy some more, 99 bottles of beer on the wall.\"\n",
    "    text += final\n",
    "    return text"
   ]
  },
  {
   "cell_type": "markdown",
   "metadata": {},
   "source": [
    "### Step 2. Open file"
   ]
  },
  {
   "cell_type": "code",
   "execution_count": 413,
   "metadata": {},
   "outputs": [],
   "source": [
    "# your code here. \n",
    "\n",
    "text = \"\"\n",
    "\n",
    "with open(\"/home/alex/Documentos/Repositorios/prework-datamad-no-solutions/lyrics/songs/99-bottes-of-beer.txt\", \"r\") as test:\n",
    "\n",
    "    for line in test:\n",
    "\n",
    "        text += line\n"
   ]
  },
  {
   "cell_type": "code",
   "execution_count": 414,
   "metadata": {},
   "outputs": [
    {
     "name": "stdout",
     "output_type": "stream",
     "text": "True\n"
    }
   ],
   "source": [
    "# Check\n",
    "\n",
    "print(bottles_lyrics() == text)"
   ]
  },
  {
   "cell_type": "markdown",
   "metadata": {},
   "source": [
    "**Expected output**:\n",
    "\n",
    "```\n",
    "True\n",
    "```"
   ]
  },
  {
   "cell_type": "markdown",
   "metadata": {},
   "source": [
    "### Step 3: Check code\n",
    "Now I want you to refactor your **bottles_lyrics** function in order to be less than 1000 characters. "
   ]
  },
  {
   "cell_type": "code",
   "execution_count": 415,
   "metadata": {},
   "outputs": [],
   "source": [
    "import inspect\n",
    "\n",
    "code = inspect.getsource(bottles_lyrics)"
   ]
  },
  {
   "cell_type": "code",
   "execution_count": 416,
   "metadata": {},
   "outputs": [
    {
     "name": "stdout",
     "output_type": "stream",
     "text": "Your bottles_lyrics functions has 984 characters\nTrue\n"
    }
   ],
   "source": [
    "# check\n",
    "\n",
    "print('Your bottles_lyrics functions has {} characters'.format(len(code)))\n",
    "print(len(code) < 1000)"
   ]
  },
  {
   "cell_type": "markdown",
   "metadata": {},
   "source": [
    "**Expected output**:\n",
    "\n",
    "```\n",
    "Your bottles_lyrics functions has 837 characters\n",
    "True\n",
    "```"
   ]
  },
  {
   "cell_type": "markdown",
   "metadata": {},
   "source": [
    "If you want a real challenge, follow the link below. Sign in and start coding!\n",
    "\n",
    "https://www.codewars.com/kata/baby-shark-lyrics-generator/train/python"
   ]
  }
 ],
 "metadata": {
  "kernelspec": {
   "display_name": "Python 3",
   "language": "python",
   "name": "python3"
  },
  "language_info": {
   "codemirror_mode": {
    "name": "ipython",
    "version": 3
   },
   "file_extension": ".py",
   "mimetype": "text/x-python",
   "name": "python",
   "nbconvert_exporter": "python",
   "pygments_lexer": "ipython3",
   "version": "3.6.9"
  }
 },
 "nbformat": 4,
 "nbformat_minor": 2
}